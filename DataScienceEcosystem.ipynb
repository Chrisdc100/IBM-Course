{
 "cells": [
  {
   "cell_type": "markdown",
   "id": "2d8b5be8-cc0e-4bb8-9a8a-f7059f89bdbc",
   "metadata": {},
   "source": [
    "# Data Science Tools and Ecosystem"
   ]
  },
  {
   "cell_type": "markdown",
   "id": "f7212e61-4c67-4692-8440-b3a6f596d1f2",
   "metadata": {},
   "source": [
    "In this notebook, Data Science Tools and Ecosystem are summarized."
   ]
  },
  {
   "cell_type": "markdown",
   "id": "01d1e1fd-9855-48b6-9a54-0d8e769377e8",
   "metadata": {},
   "source": [
    "**Objectives:**\n",
    "- List popular languages for Data Science\n",
    "- List commonly used libraries for Data Science\n",
    "- Convert 200 minutes to hours "
   ]
  },
  {
   "cell_type": "markdown",
   "id": "01e843dc-ce96-4c1a-af5f-4805aa902572",
   "metadata": {},
   "source": [
    "Some of the popular languages that Data Scientists use are:\r",
    "1. Python\n",
    "2. R\n",
    "3. SQL\n"
   ]
  },
  {
   "cell_type": "markdown",
   "id": "b8205735-c3b0-4a1a-88c9-a15f91ba3e54",
   "metadata": {},
   "source": [
    "Some of the commonly used libraries used by Data Scientists include:\n",
    "1. NumPy\n",
    "2. Pandas\n",
    "3. Matplotlib"
   ]
  },
  {
   "cell_type": "markdown",
   "id": "ae1b468a-2939-4b35-a6c5-716d3755d93b",
   "metadata": {},
   "source": [
    "|Data Science Tools|\n",
    "-------\n",
    "|Jupyter Notebook|\n",
    "|Zepplin Notebook|\n",
    "|R Studio|"
   ]
  },
  {
   "cell_type": "markdown",
   "id": "d094205c-9591-4008-90d8-aba6d36b4e30",
   "metadata": {},
   "source": [
    "### Below are a few examples of evaluating arithmetic expressions in Python\r\n"
   ]
  },
  {
   "cell_type": "code",
   "execution_count": 8,
   "id": "5562a787-6143-4ba7-8c86-d8b8e8885345",
   "metadata": {},
   "outputs": [
    {
     "data": {
      "text/plain": [
       "17"
      ]
     },
     "execution_count": 8,
     "metadata": {},
     "output_type": "execute_result"
    }
   ],
   "source": [
    "#This a simple arithmetic expression to mutiply then add integers\n",
    "(3*4)+5"
   ]
  },
  {
   "cell_type": "code",
   "execution_count": 10,
   "id": "53db2000-5828-4d48-b394-9861838a66d7",
   "metadata": {},
   "outputs": [
    {
     "data": {
      "text/plain": [
       "3.3333333333333335"
      ]
     },
     "execution_count": 10,
     "metadata": {},
     "output_type": "execute_result"
    }
   ],
   "source": [
    "#This will convert 200 minutes to hours by diving by 60\n",
    "200/60"
   ]
  },
  {
   "cell_type": "markdown",
   "id": "d781a312-9a08-45ee-b5dc-062277ab6402",
   "metadata": {},
   "source": [
    "## Author\n",
    "Chris"
   ]
  }
 ],
 "metadata": {
  "kernelspec": {
   "display_name": "Python 3 (ipykernel)",
   "language": "python",
   "name": "python3"
  },
  "language_info": {
   "codemirror_mode": {
    "name": "ipython",
    "version": 3
   },
   "file_extension": ".py",
   "mimetype": "text/x-python",
   "name": "python",
   "nbconvert_exporter": "python",
   "pygments_lexer": "ipython3",
   "version": "3.12.4"
  }
 },
 "nbformat": 4,
 "nbformat_minor": 5
}
